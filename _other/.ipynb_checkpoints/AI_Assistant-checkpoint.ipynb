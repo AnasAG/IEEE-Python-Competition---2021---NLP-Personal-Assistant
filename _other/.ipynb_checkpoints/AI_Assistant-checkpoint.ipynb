{
 "cells": [
  {
   "cell_type": "markdown",
   "metadata": {},
   "source": [
    "## Import Libraries"
   ]
  },
  {
   "cell_type": "code",
   "execution_count": 1,
   "metadata": {},
   "outputs": [],
   "source": [
    "import speech_recognition as sr\n",
    "import pyttsx3\n",
    "\n",
    "# libs for user commands\n",
    "import datetime\n",
    "import wikipedia\n",
    "import webbrowser\n",
    "import wolframalpha\n",
    "\n",
    "import os\n",
    "import time\n",
    "import subprocess\n",
    "from ecapture import ecapture as ec\n",
    "\n",
    "import random\n",
    "\n",
    "# not used\n",
    "import json\n",
    "import requests\n",
    "import pyaudio"
   ]
  },
  {
   "cell_type": "markdown",
   "metadata": {},
   "source": [
    "## Setup voice engine"
   ]
  },
  {
   "cell_type": "code",
   "execution_count": 2,
   "metadata": {},
   "outputs": [],
   "source": [
    "engine=pyttsx3.init(driverName = 'sapi5', debug= True) # initialize the text-to-speech engine\n",
    "voices=engine.getProperty('voices') # get available voices\n",
    "engine.setProperty('voice','voices[1].id') # set male voice (number 1)\n",
    "engine.setProperty('rate', 175) # set speech speed/rate\n",
    "# engine.say('The quick brown fox jumped over the lazy dog.')\n",
    "# engine.runAndWait()"
   ]
  },
  {
   "cell_type": "code",
   "execution_count": 11,
   "metadata": {},
   "outputs": [
    {
     "name": "stdout",
     "output_type": "stream",
     "text": [
      "[<pyttsx3.engine.Engine object at 0x000002049561C610>, <bound method Engine.stop of <pyttsx3.engine.Engine object at 0x000002049561C610>>, <pyttsx3.engine.Engine object at 0x000002049561C610>]\n"
     ]
    }
   ],
   "source": [
    "print([engine, engine.stop, engine])\n"
   ]
  },
  {
   "cell_type": "markdown",
   "metadata": {},
   "source": [
    "engine = pyttsx3.init()\n",
    "def onStart(name):\n",
    "   print ('starting', name)\n",
    "def onWord(name, location, length):\n",
    "   print ('word', name, location, length)\n",
    "def onEnd(name, completed):\n",
    "   print ('finishing', name, completed)\n",
    "   if name == 'fox':\n",
    "      engine.say('What a lazy dog!', 'dog')\n",
    "   elif name == 'dog':\n",
    "      engine.endLoop()\n",
    "engine = pyttsx3.init()\n",
    "engine.connect('started-utterance', onStart)\n",
    "engine.connect('started-word', onWord)\n",
    "engine.connect('finished-utterance', onEnd)\n",
    "engine.say('The quick brown fox jumped over the lazy dog.', 'fox')\n",
    "engine.startLoop()"
   ]
  },
  {
   "cell_type": "code",
   "execution_count": 4,
   "metadata": {},
   "outputs": [],
   "source": [
    "def speak(text):\n",
    "    engine.say(text)\n",
    "    engine.runAndWait()"
   ]
  },
  {
   "cell_type": "code",
   "execution_count": 10,
   "metadata": {},
   "outputs": [],
   "source": [
    "def greeting():\n",
    "    \n",
    "    hello_list = [\"Hello\", \"Hi\", \"Haalaa\"]\n",
    "    greeting_list = [\"Good Morning\", \"Good Afternoon\", \"Good Evening\"]\n",
    "    hour = datetime.datetime.now().hour\n",
    "    \n",
    "    if hour>=0 and hour<12:\n",
    "        speech = random.choice(hello_list)+ \" \" + greeting_list[0]\n",
    "        speak(speech)\n",
    "        print(speech)\n",
    "    elif hour>=12 and hour<18:\n",
    "        speech = random.choice(hello_list) + \" \" + greeting_list[1]\n",
    "        speak(speech)\n",
    "        print(speech)\n",
    "    else:\n",
    "        speech = random.choice(hello_list) + \" \" +greeting_list[2]\n",
    "        speak(speech)\n",
    "        print(speech)"
   ]
  },
  {
   "cell_type": "code",
   "execution_count": 11,
   "metadata": {},
   "outputs": [
    {
     "name": "stdout",
     "output_type": "stream",
     "text": [
      "Loading personal assistant Kareem\n",
      "Hi Good Afternoon\n"
     ]
    }
   ],
   "source": [
    "def takeCommand():\n",
    "    r = sr.Recognizer()\n",
    "    repeat_command = [\"Pardon me, please say that again\", \"Sorry, could you repeat that\", \"Could you repeat that\"]\n",
    "    now = datetime.datetime.now().time() # time object\n",
    "    print(now)\n",
    "    with sr.Microphone() as source:\n",
    "        print(\"Listening...\")\n",
    "        audio = r.listen(source)\n",
    "\n",
    "        try:\n",
    "            statement=r.recognize_google(audio,language='en-in')\n",
    "            print(f\"User said:{statement}\\n\")\n",
    "\n",
    "        except Exception as e:\n",
    "            speak(random.choice(repeat_command))\n",
    "            return \"None\"\n",
    "        return statement\n",
    "\n",
    "speech = \"Loading personal assistant Kareem\"\n",
    "print(speech) \n",
    "speak(speech) \n",
    "\n",
    "greeting()"
   ]
  },
  {
   "cell_type": "code",
   "execution_count": null,
   "metadata": {},
   "outputs": [],
   "source": [
    "def digital_commands(audio):\n",
    "        global ai_assistant_running\n",
    "        statement = audio\n",
    "        created_by = [\"who made you\", \"who created you\", \"who discovered you\"]\n",
    "        bye_bye = [\"bye\", \"stop\", \"shut down\", \"shutdown\", \"turn off\", \"turnoff\"]\n",
    "\n",
    "        # todo: add again function: repeats the last answer\n",
    "        # todo: add sissers rock paper game\n",
    "        \n",
    "        if any(sub_list in statement for sub_list in bye_bye):\n",
    "            speak('your personal assistant Kareem is shutting down')\n",
    "            time.sleep(0.2)\n",
    "            speak('Good bye')\n",
    "            print('your personal assistant Kareem is shutting down, Good bye')\n",
    "            engine.stop()\n",
    "            ai_assistant_running = False\n",
    "        \n",
    "        if 'wikipedia' in statement:\n",
    "            speak('Searching Wikipedia...')\n",
    "            statement =statement.replace(\"wikipedia\", \"\")\n",
    "            results = wikipedia.summary(statement, sentences=3)\n",
    "            speak(\"According to Wikipedia\")\n",
    "            print(results)\n",
    "            speak(results)\n",
    "            \n",
    "        elif 'open youtube' in statement:\n",
    "            webbrowser.open_new_tab(\"https://www.youtube.com\")\n",
    "            speak(\"youtube is open now\")\n",
    "            time.sleep(5)\n",
    "\n",
    "        elif 'open google' in statement:\n",
    "            webbrowser.open_new_tab(\"https://www.google.com\")\n",
    "            speak(\"Google chrome is open now\")\n",
    "            time.sleep(5)\n",
    "\n",
    "        elif 'open gmail' in statement:\n",
    "            webbrowser.open_new_tab(\"https://gmail.com\")\n",
    "            speak(\"Google Mail open now\")\n",
    "            time.sleep(5)\n",
    "                    \n",
    "        elif 'time' in statement:\n",
    "            strTime=datetime.datetime.now().strftime(\"%H:%M:%S\")\n",
    "            speak(f\"the time is {strTime}\")\n",
    "            \n",
    "        elif 'news' in statement:\n",
    "            news = webbrowser.open_new_tab(\"https://edition.cnn.com/\")\n",
    "            speak('Here are some headlines from the CNN news, Happy reading')\n",
    "            time.sleep(6)\n",
    "\n",
    "        elif \"camera\" in statement or \"take a photo\" in statement:\n",
    "            ec.capture(0,\"robo camera\", False)\n",
    "            \n",
    "        elif 'search'  in statement:\n",
    "            statement = statement.replace(\"search\", \"\")\n",
    "            webbrowser.open_new_tab(statement)\n",
    "            time.sleep(5)\n",
    "            \n",
    "        elif 'who are you' in statement or 'what can you do' in statement:\n",
    "            speak(\"I am Kareem, a personal assistant to help you in your tasks.\")\n",
    "\n",
    "        elif any(sub_list in statement for sub_list in created_by):\n",
    "            speak(\"I was built by Anas\")\n",
    "            print(\"I was built by Anas\")"
   ]
  },
  {
   "cell_type": "code",
   "execution_count": 47,
   "metadata": {},
   "outputs": [
    {
     "name": "stdout",
     "output_type": "stream",
     "text": [
      "20:41:40.104039\n",
      "Listening...\n",
      "User said:Saddam please\n",
      "\n",
      "20:41:44.565512\n",
      "Listening...\n",
      "User said:shutdown Showdown Island\n",
      "\n",
      "your personal assistant Kareem is shutting down, Good bye\n"
     ]
    }
   ],
   "source": [
    "if __name__=='__main__':\n",
    "\n",
    "    global ai_assistant_running\n",
    "    \n",
    "    speech = [\"Tell me how can I help you?\", \"How can I help you?\", \"Can I help you?\", \"Hey, how can I assist you?\"]\n",
    "    # count = 1\n",
    "    ai_assistant_running = True\n",
    "    if ai_assistant_running == True: speak(random.choice(speech))\n",
    "        \n",
    "    # time_intervals = []\n",
    "    while ai_assistant_running:\n",
    "        # now = datetime.datetime.now().time() # time object\n",
    "        # print(now)\n",
    "        time_intervals.append(now)\n",
    "        \n",
    "        audio = takeCommand().lower() # audio is type: str\n",
    "        digital_commands(audio)"
   ]
  },
  {
   "cell_type": "markdown",
   "metadata": {},
   "source": [
    "## Improvements:\n",
    "1. create a couple of lists with random.choice()\n",
    "2. Create separate function for the commands\n",
    "3. Better user sentence analyses, to have more robust understanding of the command"
   ]
  },
  {
   "cell_type": "code",
   "execution_count": 13,
   "metadata": {},
   "outputs": [
    {
     "data": {
      "text/plain": [
       "[datetime.time(14, 37, 1, 951849),\n",
       " datetime.time(14, 37, 16, 676277),\n",
       " datetime.time(14, 37, 32, 164379),\n",
       " datetime.time(14, 37, 40, 84098),\n",
       " datetime.time(14, 37, 50, 422229),\n",
       " datetime.time(14, 38, 7, 35152),\n",
       " datetime.time(14, 38, 25, 392754),\n",
       " datetime.time(14, 38, 45, 571995),\n",
       " datetime.time(14, 39, 2, 445480),\n",
       " datetime.time(14, 39, 12, 769213),\n",
       " datetime.time(14, 39, 28, 581147),\n",
       " datetime.time(14, 39, 43, 109135),\n",
       " datetime.time(14, 39, 53, 689896),\n",
       " datetime.time(14, 40, 3, 68090),\n",
       " datetime.time(14, 40, 12, 445313),\n",
       " datetime.time(14, 40, 24, 126321),\n",
       " datetime.time(14, 40, 32, 507901),\n",
       " datetime.time(14, 40, 45, 707939),\n",
       " datetime.time(14, 41, 1, 983994),\n",
       " datetime.time(14, 41, 14, 393572)]"
      ]
     },
     "execution_count": 13,
     "metadata": {},
     "output_type": "execute_result"
    }
   ],
   "source": [
    "time_intervals"
   ]
  },
  {
   "cell_type": "code",
   "execution_count": null,
   "metadata": {},
   "outputs": [],
   "source": []
  }
 ],
 "metadata": {
  "kernelspec": {
   "display_name": "Python 3",
   "language": "python",
   "name": "python3"
  },
  "language_info": {
   "codemirror_mode": {
    "name": "ipython",
    "version": 3
   },
   "file_extension": ".py",
   "mimetype": "text/x-python",
   "name": "python",
   "nbconvert_exporter": "python",
   "pygments_lexer": "ipython3",
   "version": "3.8.5"
  }
 },
 "nbformat": 4,
 "nbformat_minor": 4
}
